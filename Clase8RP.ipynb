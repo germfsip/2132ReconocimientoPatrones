{
  "nbformat": 4,
  "nbformat_minor": 0,
  "metadata": {
    "colab": {
      "name": "Clase8RP.ipynb",
      "provenance": [],
      "include_colab_link": true
    },
    "kernelspec": {
      "name": "python3",
      "display_name": "Python 3"
    }
  },
  "cells": [
    {
      "cell_type": "markdown",
      "metadata": {
        "id": "view-in-github",
        "colab_type": "text"
      },
      "source": [
        "<a href=\"https://colab.research.google.com/github/germfsip/2132ReconocimientoPatrones/blob/main/Clase8RP.ipynb\" target=\"_parent\"><img src=\"https://colab.research.google.com/assets/colab-badge.svg\" alt=\"Open In Colab\"/></a>"
      ]
    },
    {
      "cell_type": "markdown",
      "metadata": {
        "id": "ATbfpuy3st9D"
      },
      "source": [
        "#Reconocimiento de Patrones\n",
        "##Dr. Gerardo Martinez\n",
        "##Lección 8 - Búsqueda de hiperparámetros"
      ]
    },
    {
      "cell_type": "markdown",
      "metadata": {
        "id": "idaeBTVPOreS"
      },
      "source": [
        "## Presentación de los Datos"
      ]
    },
    {
      "cell_type": "code",
      "metadata": {
        "id": "6eJSQ1dpsroq"
      },
      "source": [
        "import numpy as np\n",
        "import pandas as pd\n",
        "import time\n",
        "import warnings\n",
        "from sklearn import metrics, preprocessing, tree\n",
        "from sklearn.metrics import accuracy_score,recall_score,precision_score,f1_score\n",
        "from sklearn.model_selection import cross_val_score\n",
        "from sklearn.model_selection import GridSearchCV, RandomizedSearchCV\n",
        "from sklearn.model_selection import train_test_split\n",
        "from sklearn.metrics import confusion_matrix\n",
        "warnings.filterwarnings(\"ignore\")\n",
        "\n"
      ],
      "execution_count": 33,
      "outputs": []
    },
    {
      "cell_type": "code",
      "metadata": {
        "id": "vTklSft39lIX",
        "colab": {
          "resources": {
            "http://localhost:8080/nbextensions/google.colab/files.js": {
              "data": "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",
              "ok": true,
              "headers": [
                [
                  "content-type",
                  "application/javascript"
                ]
              ],
              "status": 200,
              "status_text": ""
            }
          },
          "base_uri": "https://localhost:8080/",
          "height": 262
        },
        "outputId": "bdd99505-1e51-474a-b0b3-3bd83b6a98be"
      },
      "source": [
        "from google.colab import files\n",
        "uploaded = files.upload()\n",
        "df = pd.read_csv('loan_prediction.csv')\n",
        "df.head()"
      ],
      "execution_count": 34,
      "outputs": [
        {
          "output_type": "display_data",
          "data": {
            "text/html": [
              "\n",
              "     <input type=\"file\" id=\"files-a60bc8d3-72c1-40b7-9b86-962295d415bf\" name=\"files[]\" multiple disabled\n",
              "        style=\"border:none\" />\n",
              "     <output id=\"result-a60bc8d3-72c1-40b7-9b86-962295d415bf\">\n",
              "      Upload widget is only available when the cell has been executed in the\n",
              "      current browser session. Please rerun this cell to enable.\n",
              "      </output>\n",
              "      <script src=\"/nbextensions/google.colab/files.js\"></script> "
            ],
            "text/plain": [
              "<IPython.core.display.HTML object>"
            ]
          },
          "metadata": {
            "tags": []
          }
        },
        {
          "output_type": "stream",
          "text": [
            "Saving loan_prediction.csv to loan_prediction (2).csv\n"
          ],
          "name": "stdout"
        },
        {
          "output_type": "execute_result",
          "data": {
            "text/html": [
              "<div>\n",
              "<style scoped>\n",
              "    .dataframe tbody tr th:only-of-type {\n",
              "        vertical-align: middle;\n",
              "    }\n",
              "\n",
              "    .dataframe tbody tr th {\n",
              "        vertical-align: top;\n",
              "    }\n",
              "\n",
              "    .dataframe thead th {\n",
              "        text-align: right;\n",
              "    }\n",
              "</style>\n",
              "<table border=\"1\" class=\"dataframe\">\n",
              "  <thead>\n",
              "    <tr style=\"text-align: right;\">\n",
              "      <th></th>\n",
              "      <th>ApplicantIncome</th>\n",
              "      <th>CoapplicantIncome</th>\n",
              "      <th>LoanAmount</th>\n",
              "      <th>Loan_Amount_Term</th>\n",
              "      <th>Credit_History</th>\n",
              "      <th>Loan_Status</th>\n",
              "    </tr>\n",
              "  </thead>\n",
              "  <tbody>\n",
              "    <tr>\n",
              "      <th>0</th>\n",
              "      <td>5849</td>\n",
              "      <td>0.0</td>\n",
              "      <td>0.0</td>\n",
              "      <td>360.0</td>\n",
              "      <td>1.0</td>\n",
              "      <td>1</td>\n",
              "    </tr>\n",
              "    <tr>\n",
              "      <th>1</th>\n",
              "      <td>4583</td>\n",
              "      <td>1508.0</td>\n",
              "      <td>128.0</td>\n",
              "      <td>360.0</td>\n",
              "      <td>1.0</td>\n",
              "      <td>0</td>\n",
              "    </tr>\n",
              "    <tr>\n",
              "      <th>2</th>\n",
              "      <td>3000</td>\n",
              "      <td>0.0</td>\n",
              "      <td>66.0</td>\n",
              "      <td>360.0</td>\n",
              "      <td>1.0</td>\n",
              "      <td>1</td>\n",
              "    </tr>\n",
              "    <tr>\n",
              "      <th>3</th>\n",
              "      <td>2583</td>\n",
              "      <td>2358.0</td>\n",
              "      <td>120.0</td>\n",
              "      <td>360.0</td>\n",
              "      <td>1.0</td>\n",
              "      <td>1</td>\n",
              "    </tr>\n",
              "    <tr>\n",
              "      <th>4</th>\n",
              "      <td>6000</td>\n",
              "      <td>0.0</td>\n",
              "      <td>141.0</td>\n",
              "      <td>360.0</td>\n",
              "      <td>1.0</td>\n",
              "      <td>1</td>\n",
              "    </tr>\n",
              "  </tbody>\n",
              "</table>\n",
              "</div>"
            ],
            "text/plain": [
              "   ApplicantIncome  CoapplicantIncome  ...  Credit_History  Loan_Status\n",
              "0             5849                0.0  ...             1.0            1\n",
              "1             4583             1508.0  ...             1.0            0\n",
              "2             3000                0.0  ...             1.0            1\n",
              "3             2583             2358.0  ...             1.0            1\n",
              "4             6000                0.0  ...             1.0            1\n",
              "\n",
              "[5 rows x 6 columns]"
            ]
          },
          "metadata": {
            "tags": []
          },
          "execution_count": 34
        }
      ]
    },
    {
      "cell_type": "code",
      "metadata": {
        "id": "Gx3-HSsj9y8O"
      },
      "source": [
        "from sklearn.tree import DecisionTreeClassifier as dt\n",
        "model = dt()"
      ],
      "execution_count": 35,
      "outputs": []
    },
    {
      "cell_type": "markdown",
      "metadata": {
        "id": "7W9MqEPYQWf_"
      },
      "source": [
        "## Train-Test Split"
      ]
    },
    {
      "cell_type": "code",
      "metadata": {
        "id": "tkl_ZPEXQal5",
        "colab": {
          "base_uri": "https://localhost:8080/"
        },
        "outputId": "52c3087e-478a-43c6-ade0-7521770c850b"
      },
      "source": [
        "x = np.asanyarray(df.drop(columns=['Loan_Status']))\n",
        "y = np.asanyarray(df[['Loan_Status']])\n",
        "xtrain, xtest, ytrain, ytest = train_test_split(x, y, test_size=0.2)\n",
        "model = dt(min_samples_leaf=4)\n",
        "model.fit(xtrain, ytrain)\n",
        "print('Train: ', model.score(xtrain, ytrain))\n",
        "print('Test: ', model.score(xtest, ytest))\n",
        "\n",
        "ypred = model.predict(xtest)\n",
        "print('Accuracy Score : ' + str(accuracy_score(ytest,ypred)))\n",
        "print('Precision Score : ' + str(precision_score(ytest,ypred)))\n",
        "print('Recall Score : ' + str(recall_score(ytest,ypred)))\n",
        "print('F1 Score : ' + str(f1_score(ytest,ypred)))\n",
        "\n",
        "#imprimir matriz de confusion\n",
        "print('Confusion Matrix : \\n' + str(confusion_matrix(ytest,ypred)))\n"
      ],
      "execution_count": 36,
      "outputs": [
        {
          "output_type": "stream",
          "text": [
            "Train:  0.8574338085539714\n",
            "Test:  0.7073170731707317\n",
            "Accuracy Score : 0.7073170731707317\n",
            "Precision Score : 0.875\n",
            "Recall Score : 0.7\n",
            "F1 Score : 0.7777777777777777\n",
            "Confusion Matrix : \n",
            "[[24  9]\n",
            " [27 63]]\n"
          ],
          "name": "stdout"
        }
      ]
    },
    {
      "cell_type": "markdown",
      "metadata": {
        "id": "hO944B1EPLls"
      },
      "source": [
        "## Validación cruzada"
      ]
    },
    {
      "cell_type": "code",
      "metadata": {
        "id": "gNcd2e5e-Bnu",
        "colab": {
          "base_uri": "https://localhost:8080/"
        },
        "outputId": "043e3390-34b7-4365-d43b-7b1e669751d5"
      },
      "source": [
        "model = dt()\n",
        "scores = cross_val_score(model, xtrain, ytrain, cv=64, scoring='f1_macro')\n",
        "print(scores)"
      ],
      "execution_count": 37,
      "outputs": [
        {
          "output_type": "stream",
          "text": [
            "[0.73333333 0.66666667 0.38461538 0.46666667 0.33333333 0.73333333\n",
            " 0.56363636 1.         0.46666667 0.66666667 0.66666667 0.56363636\n",
            " 0.56363636 0.56363636 0.73333333 0.46666667 0.87301587 0.61904762\n",
            " 0.61904762 0.33333333 0.73333333 0.73333333 0.56363636 0.87301587\n",
            " 0.61904762 0.66666667 0.46666667 0.56363636 0.66666667 0.61904762\n",
            " 0.56363636 0.73333333 0.61904762 0.73333333 0.56363636 0.73333333\n",
            " 0.73333333 0.66666667 0.66666667 1.         0.56363636 0.27272727\n",
            " 0.46666667 0.53333333 0.65       0.53333333 0.41666667 0.3\n",
            " 0.57142857 0.65       0.78787879 0.65       0.65       0.3\n",
            " 0.36363636 0.41666667 0.65       0.78787879 0.3        0.65\n",
            " 1.         0.78787879 0.41666667 0.65      ]\n"
          ],
          "name": "stdout"
        }
      ]
    },
    {
      "cell_type": "code",
      "metadata": {
        "id": "AISf98nn-EFN",
        "colab": {
          "base_uri": "https://localhost:8080/"
        },
        "outputId": "2d3aacec-2678-4afd-bdd7-a77751268ed5"
      },
      "source": [
        "print(scores.mean(), scores.std())\n"
      ],
      "execution_count": 38,
      "outputs": [
        {
          "output_type": "stream",
          "text": [
            "0.607865225052725 0.16650604780718214\n"
          ],
          "name": "stdout"
        }
      ]
    },
    {
      "cell_type": "markdown",
      "metadata": {
        "id": "Y55ncIZrT2nI"
      },
      "source": [
        "## KFold"
      ]
    },
    {
      "cell_type": "code",
      "metadata": {
        "id": "8Z-nLI4pT1-7",
        "colab": {
          "base_uri": "https://localhost:8080/"
        },
        "outputId": "eaac655f-43d7-40a1-87c6-b9da84909801"
      },
      "source": [
        "from sklearn.model_selection import KFold\n",
        "kf = KFold(n_splits=5)\n",
        "\n",
        "train_scores = []\n",
        "dev_scores = []\n",
        "\n",
        "for train_index, test_index in kf.split(xtrain):\n",
        "  train, dev = xtrain[train_index], xtrain[test_index]\n",
        "  y_train, y_dev = ytrain[train_index], ytrain[test_index]\n",
        "  model = dt()\n",
        "  model.fit(train, y_train)\n",
        "  train_scores.append(model.score(train,y_train))\n",
        "  dev_scores.append(model.score(dev, y_dev))\n",
        "\n",
        "\n",
        "print(train_scores)\n",
        "print(np.mean(train_scores))\n",
        "print(dev_scores)\n",
        "print(np.mean(dev_scores))\n",
        "\n",
        "ypred = model.predict(xtest)\n",
        "print('Accuracy Score : ' + str(accuracy_score(ytest,ypred)))\n",
        "print('Precision Score : ' + str(precision_score(ytest,ypred)))\n",
        "print('Recall Score : ' + str(recall_score(ytest,ypred)))\n",
        "print('F1 Score : ' + str(f1_score(ytest,ypred)))\n",
        "\n",
        "#imprimir matriz de confusion\n",
        "print('Confusion Matrix : \\n' + str(confusion_matrix(ytest,ypred)))\n"
      ],
      "execution_count": 39,
      "outputs": [
        {
          "output_type": "stream",
          "text": [
            "[1.0, 1.0, 1.0, 1.0, 1.0]\n",
            "1.0\n",
            "[0.7171717171717171, 0.673469387755102, 0.6020408163265306, 0.6530612244897959, 0.5816326530612245]\n",
            "0.645475159760874\n",
            "Accuracy Score : 0.7073170731707317\n",
            "Precision Score : 0.8068181818181818\n",
            "Recall Score : 0.7888888888888889\n",
            "F1 Score : 0.797752808988764\n",
            "Confusion Matrix : \n",
            "[[16 17]\n",
            " [19 71]]\n"
          ],
          "name": "stdout"
        }
      ]
    },
    {
      "cell_type": "markdown",
      "metadata": {
        "id": "S60O14msXNDE"
      },
      "source": [
        "## Grid Search"
      ]
    },
    {
      "cell_type": "code",
      "metadata": {
        "id": "eUEyi6Lr-Haa"
      },
      "source": [
        "parameters = {'max_depth':[1,2,3,4,5],\n",
        "              'min_samples_leaf':[1,2,3,4,5],\n",
        "              'min_samples_split':[2,3,4,5],\n",
        "              'criterion' : ['gini','entropy']}"
      ],
      "execution_count": 40,
      "outputs": []
    },
    {
      "cell_type": "code",
      "metadata": {
        "id": "j468Wm1a-JiI",
        "colab": {
          "base_uri": "https://localhost:8080/"
        },
        "outputId": "4c238ba7-af37-41de-bf13-bc0d4121ff03"
      },
      "source": [
        "search_obj = GridSearchCV(model, parameters, cv=5, scoring='f1_macro')\n",
        "fit_obj = search_obj.fit(x, y)\n",
        "print(fit_obj.cv_results_['mean_test_score'])\n",
        "best_model = fit_obj.best_estimator_"
      ],
      "execution_count": 41,
      "outputs": [
        {
          "output_type": "stream",
          "text": [
            "[0.70741357 0.70741357 0.70741357 0.70741357 0.70741357 0.70741357\n",
            " 0.70741357 0.70741357 0.70741357 0.70741357 0.70741357 0.70741357\n",
            " 0.70741357 0.70741357 0.70741357 0.70741357 0.70741357 0.70741357\n",
            " 0.70741357 0.70741357 0.686559   0.686559   0.686559   0.686559\n",
            " 0.686559   0.686559   0.686559   0.686559   0.68503533 0.68503533\n",
            " 0.68503533 0.68503533 0.68503533 0.68503533 0.68736277 0.68503533\n",
            " 0.6880986  0.6880986  0.6880986  0.6880986  0.686559   0.686559\n",
            " 0.686559   0.686559   0.686559   0.686559   0.686559   0.686559\n",
            " 0.68586884 0.68586884 0.68843179 0.68586884 0.68843179 0.68586884\n",
            " 0.68586884 0.69075923 0.67941612 0.67941612 0.67941612 0.67941612\n",
            " 0.68005905 0.68005905 0.68005905 0.68005905 0.67976772 0.68005905\n",
            " 0.68285165 0.68005905 0.67575011 0.68034984 0.67726496 0.68034984\n",
            " 0.68354296 0.68202684 0.68202684 0.68121553 0.66985454 0.66985454\n",
            " 0.66985454 0.67366259 0.65961007 0.66358862 0.66210385 0.66063377\n",
            " 0.66458633 0.66596589 0.66452103 0.656273   0.65982071 0.6478214\n",
            " 0.65982071 0.6478214  0.65526022 0.65287414 0.65767537 0.65528928\n",
            " 0.65448272 0.65448272 0.65374641 0.65374641 0.70741357 0.70741357\n",
            " 0.70741357 0.70741357 0.70741357 0.70741357 0.70741357 0.70741357\n",
            " 0.70741357 0.70741357 0.70741357 0.70741357 0.70741357 0.70741357\n",
            " 0.70741357 0.70741357 0.70741357 0.70741357 0.70741357 0.70741357\n",
            " 0.686559   0.686559   0.686559   0.686559   0.686559   0.686559\n",
            " 0.686559   0.686559   0.6856955  0.6856955  0.6856955  0.6856955\n",
            " 0.6880986  0.6880986  0.6880986  0.6880986  0.6880986  0.6880986\n",
            " 0.6880986  0.6880986  0.6788882  0.6788882  0.6788882  0.68131164\n",
            " 0.6788882  0.68131164 0.6818367  0.6788882  0.67585719 0.67585719\n",
            " 0.67828063 0.67828063 0.68068373 0.67826029 0.67826029 0.67826029\n",
            " 0.67789898 0.67789898 0.67300303 0.67789898 0.68301289 0.68301289\n",
            " 0.68301289 0.68301289 0.68301289 0.68557584 0.68596138 0.68596138\n",
            " 0.67258096 0.67258096 0.67258096 0.67514392 0.67550038 0.67550038\n",
            " 0.67550038 0.67550038 0.67824164 0.67313289 0.67571509 0.67824164\n",
            " 0.65597508 0.65191351 0.65134551 0.66040341 0.65463751 0.65170529\n",
            " 0.65115451 0.65580059 0.6792372  0.67463747 0.67463747 0.66828674\n",
            " 0.65875747 0.66362088 0.66362088 0.66353785 0.65748801 0.66752864\n",
            " 0.66752864 0.66752864]\n"
          ],
          "name": "stdout"
        }
      ]
    },
    {
      "cell_type": "code",
      "metadata": {
        "id": "N_Pyt4mw-LE9",
        "colab": {
          "base_uri": "https://localhost:8080/"
        },
        "outputId": "0469600e-1c5d-4c1f-b1fe-7ac40096540c"
      },
      "source": [
        "print(best_model)"
      ],
      "execution_count": 42,
      "outputs": [
        {
          "output_type": "stream",
          "text": [
            "DecisionTreeClassifier(ccp_alpha=0.0, class_weight=None, criterion='gini',\n",
            "                       max_depth=1, max_features=None, max_leaf_nodes=None,\n",
            "                       min_impurity_decrease=0.0, min_impurity_split=None,\n",
            "                       min_samples_leaf=1, min_samples_split=2,\n",
            "                       min_weight_fraction_leaf=0.0, presort='deprecated',\n",
            "                       random_state=None, splitter='best')\n"
          ],
          "name": "stdout"
        }
      ]
    },
    {
      "cell_type": "code",
      "metadata": {
        "id": "mV4Zh0R6-LvK",
        "colab": {
          "base_uri": "https://localhost:8080/"
        },
        "outputId": "6dddeb19-99f4-4850-818b-7610cc020f92"
      },
      "source": [
        "best_model.fit(xtrain, ytrain)\n",
        "# Make predictions using the new model.\n",
        "print('Train: ', best_model.score(xtrain, ytrain))\n",
        "print('Test: ', best_model.score(xtest, ytest))\n",
        "\n",
        "ypred = best_model.predict(xtest)\n",
        "print('Accuracy Score : ' + str(accuracy_score(ytest,ypred)))\n",
        "print('Precision Score : ' + str(precision_score(ytest,ypred)))\n",
        "print('Recall Score : ' + str(recall_score(ytest,ypred)))\n",
        "print('F1 Score : ' + str(f1_score(ytest,ypred)))\n",
        "\n",
        "#imprimir matriz de confusion\n",
        "print('Confusion Matrix : \\n' + str(confusion_matrix(ytest,ypred)))\n"
      ],
      "execution_count": 43,
      "outputs": [
        {
          "output_type": "stream",
          "text": [
            "Train:  0.7617107942973523\n",
            "Test:  0.8048780487804879\n",
            "Accuracy Score : 0.8048780487804879\n",
            "Precision Score : 0.8235294117647058\n",
            "Recall Score : 0.9333333333333333\n",
            "F1 Score : 0.8749999999999999\n",
            "Confusion Matrix : \n",
            "[[15 18]\n",
            " [ 6 84]]\n"
          ],
          "name": "stdout"
        }
      ]
    },
    {
      "cell_type": "markdown",
      "metadata": {
        "id": "JMGocRl-bpEd"
      },
      "source": [
        "## Ramdonized Search"
      ]
    },
    {
      "cell_type": "code",
      "metadata": {
        "id": "5bXeXoMP-P_C",
        "colab": {
          "base_uri": "https://localhost:8080/"
        },
        "outputId": "f18ca582-0f10-4447-c546-66bd71ba440c"
      },
      "source": [
        "search_obj = RandomizedSearchCV(model, parameters, cv=5, \n",
        "                                scoring='f1_macro', n_iter=15)\n",
        "fit_obj = search_obj.fit(xtrain, ytrain)\n",
        "print(fit_obj.cv_results_['mean_test_score'])\n",
        "best_model = fit_obj.best_estimator_"
      ],
      "execution_count": 44,
      "outputs": [
        {
          "output_type": "stream",
          "text": [
            "[0.67970961 0.70384919 0.67050443 0.64742572 0.66594611 0.70384919\n",
            " 0.67467443 0.70188663 0.675087   0.67658326 0.67386613 0.70030196\n",
            " 0.68072048 0.67509626 0.70384919]\n"
          ],
          "name": "stdout"
        }
      ]
    },
    {
      "cell_type": "code",
      "metadata": {
        "id": "w5Uhq_KT-QwG",
        "colab": {
          "base_uri": "https://localhost:8080/"
        },
        "outputId": "4e263c69-5a93-4971-a3ac-b4e5b1dfed24"
      },
      "source": [
        "best_model.fit(xtrain, ytrain)\n",
        "# Make predictions using the new model.\n",
        "print('Train: ', best_model.score(xtrain, ytrain))\n",
        "print('Test: ', best_model.score(xtest, ytest))\n",
        "ypred = best_model.predict(xtest)\n",
        "print('Accuracy Score : ' + str(accuracy_score(ytest,ypred)))\n",
        "print('Precision Score : ' + str(precision_score(ytest,ypred)))\n",
        "print('Recall Score : ' + str(recall_score(ytest,ypred)))\n",
        "print('F1 Score : ' + str(f1_score(ytest,ypred)))\n",
        "\n",
        "#imprimir matriz de confusion\n",
        "print('Confusion Matrix : \\n' + str(confusion_matrix(ytest,ypred)))"
      ],
      "execution_count": 45,
      "outputs": [
        {
          "output_type": "stream",
          "text": [
            "Train:  0.769857433808554\n",
            "Test:  0.7967479674796748\n",
            "Accuracy Score : 0.7967479674796748\n",
            "Precision Score : 0.8282828282828283\n",
            "Recall Score : 0.9111111111111111\n",
            "F1 Score : 0.8677248677248678\n",
            "Confusion Matrix : \n",
            "[[16 17]\n",
            " [ 8 82]]\n"
          ],
          "name": "stdout"
        }
      ]
    }
  ]
}