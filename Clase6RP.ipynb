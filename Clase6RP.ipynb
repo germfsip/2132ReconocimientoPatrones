{
  "nbformat": 4,
  "nbformat_minor": 0,
  "metadata": {
    "colab": {
      "name": "Clase6RP.ipynb",
      "provenance": [],
      "include_colab_link": true
    },
    "kernelspec": {
      "name": "python3",
      "display_name": "Python 3"
    }
  },
  "cells": [
    {
      "cell_type": "markdown",
      "metadata": {
        "id": "view-in-github",
        "colab_type": "text"
      },
      "source": [
        "<a href=\"https://colab.research.google.com/github/germfsip/2132ReconocimientoPatrones/blob/main/Clase6RP.ipynb\" target=\"_parent\"><img src=\"https://colab.research.google.com/assets/colab-badge.svg\" alt=\"Open In Colab\"/></a>"
      ]
    },
    {
      "cell_type": "markdown",
      "metadata": {
        "id": "9FicWaXvDZ-w"
      },
      "source": [
        "#Reconocimiento de Patrones\n",
        "##Dr. Gerardo Martinez\n",
        "##Lección 6 - Reducción de la dimensionalidad"
      ]
    },
    {
      "cell_type": "markdown",
      "metadata": {
        "id": "nvbJyikjDrq6"
      },
      "source": [
        "## Reducción de la dimensionalidad con t-SNE"
      ]
    },
    {
      "cell_type": "markdown",
      "metadata": {
        "id": "Hyg7jM6MDzF2"
      },
      "source": [
        "Primeramente importaremos unos paquetes"
      ]
    },
    {
      "cell_type": "code",
      "metadata": {
        "id": "AaN2sxlwDYzk"
      },
      "source": [
        "import pandas as pd\n",
        "import numpy as np\n",
        "import matplotlib.pyplot as plt\n",
        "from sklearn.manifold import TSNE\n",
        "from google.colab import files"
      ],
      "execution_count": null,
      "outputs": []
    },
    {
      "cell_type": "markdown",
      "metadata": {
        "id": "LflocjNTD5qs"
      },
      "source": [
        "Leemos los datos\n"
      ]
    },
    {
      "cell_type": "code",
      "metadata": {
        "id": "GmnzVFKHEbET"
      },
      "source": [
        "from sklearn.datasets import fetch_openml\n",
        "x, y = fetch_openml('mnist_784', version=1, return_X_y=True)"
      ],
      "execution_count": null,
      "outputs": []
    },
    {
      "cell_type": "code",
      "metadata": {
        "id": "qj9w8ezDJDuc",
        "colab": {
          "base_uri": "https://localhost:8080/"
        },
        "outputId": "9458b33d-8e3e-4c6d-9c37-6ab1a0b7284c"
      },
      "source": [
        "n_samples = 5000\n",
        "x=x[:n_samples,:]\n",
        "y=np.array(y[:n_samples].ravel(),dtype=np.int)\n",
        "print(x.shape, y.shape)"
      ],
      "execution_count": null,
      "outputs": [
        {
          "output_type": "stream",
          "text": [
            "(5000, 784) (5000,)\n"
          ],
          "name": "stdout"
        }
      ]
    },
    {
      "cell_type": "code",
      "metadata": {
        "id": "EDy2YvmWF6X8",
        "colab": {
          "base_uri": "https://localhost:8080/",
          "height": 281
        },
        "outputId": "e0185713-7916-46f7-e60b-3ba26f6a4524"
      },
      "source": [
        "# Dibujar un ejemplo de manera aleatoria\n",
        "sample = np.random.randint(n_samples)\n",
        "plt.imshow(x[sample].reshape((28,28)), cmap=plt.cm.gray)\n",
        "plt.title('Target: %i'%y[sample])\n",
        "plt.show()"
      ],
      "execution_count": null,
      "outputs": [
        {
          "output_type": "display_data",
          "data": {
            "image/png": "[encoded data removed]",
            "text/plain": [
              "<Figure size 432x288 with 1 Axes>"
            ]
          },
          "metadata": {
            "tags": [],
            "needs_background": "light"
          }
        }
      ]
    },
    {
      "cell_type": "code",
      "metadata": {
        "id": "WBdJNhBCFpD_"
      },
      "source": [
        " model = TSNE(n_components=2, n_iter=2000, n_jobs=-1)"
      ],
      "execution_count": null,
      "outputs": []
    },
    {
      "cell_type": "code",
      "metadata": {
        "id": "SyUftezJFumA",
        "colab": {
          "base_uri": "https://localhost:8080/"
        },
        "outputId": "8ccc3483-9866-4150-ee3c-8f710f1df22e"
      },
      "source": [
        "x_2d = model.fit_transform(x)\n",
        "x_2d.shape"
      ],
      "execution_count": null,
      "outputs": [
        {
          "output_type": "execute_result",
          "data": {
            "text/plain": [
              "(5000, 2)"
            ]
          },
          "metadata": {
            "tags": []
          },
          "execution_count": 7
        }
      ]
    },
    {
      "cell_type": "code",
      "metadata": {
        "id": "MUPG_760Fw3F",
        "colab": {
          "base_uri": "https://localhost:8080/",
          "height": 282
        },
        "outputId": "878b429c-168a-4646-918b-da85968f0c11"
      },
      "source": [
        "plt.scatter(x_2d[:,0],x_2d[:,1], c=y, cmap=plt.cm.tab10)"
      ],
      "execution_count": null,
      "outputs": [
        {
          "output_type": "execute_result",
          "data": {
            "text/plain": [
              "<matplotlib.collections.PathCollection at 0x7f3611714d50>"
            ]
          },
          "metadata": {
            "tags": []
          },
          "execution_count": 8
        },
        {
          "output_type": "display_data",
          "data": {
            "image/png": "[encoded data removed]",
            "text/plain": [
              "<Figure size 432x288 with 1 Axes>"
            ]
          },
          "metadata": {
            "tags": [],
            "needs_background": "light"
          }
        }
      ]
    },
    {
      "cell_type": "markdown",
      "metadata": {
        "id": "WqANA5EgF9Ja"
      },
      "source": [
        "## Clasificación de digitos con PCA y SVM"
      ]
    },
    {
      "cell_type": "code",
      "metadata": {
        "id": "ONWFyipnGHWb"
      },
      "source": [
        "from sklearn.model_selection import train_test_split\n",
        "from sklearn.pipeline import Pipeline\n",
        "from sklearn.preprocessing import StandardScaler\n",
        "from sklearn.decomposition import PCA\n",
        "from sklearn import svm, metrics"
      ],
      "execution_count": null,
      "outputs": []
    },
    {
      "cell_type": "code",
      "metadata": {
        "id": "IDhpmF_fGQ5H"
      },
      "source": [
        "# Separar conjuntos de entrenamiento y prueba\n",
        "xtrain, xtest, ytrain, ytest = train_test_split(x, y, test_size=0.1)"
      ],
      "execution_count": null,
      "outputs": []
    },
    {
      "cell_type": "code",
      "metadata": {
        "id": "OLOfP4q1GT8I"
      },
      "source": [
        " # Instanciar modelo\n",
        "model = Pipeline([('scaler', StandardScaler()),\n",
        "                  ('PCA', PCA(n_components=50)),\n",
        "                  ('SVM', svm.SVC(gamma=0.0001))])"
      ],
      "execution_count": null,
      "outputs": []
    },
    {
      "cell_type": "code",
      "metadata": {
        "id": "p_wUxWDqGb3H",
        "colab": {
          "base_uri": "https://localhost:8080/"
        },
        "outputId": "7f3c522d-8109-4acc-e15a-b385570ebd12"
      },
      "source": [
        " # Entrenar modelo\n",
        "model.fit(xtrain, ytrain)"
      ],
      "execution_count": null,
      "outputs": [
        {
          "output_type": "execute_result",
          "data": {
            "text/plain": [
              "Pipeline(memory=None,\n",
              "         steps=[('scaler',\n",
              "                 StandardScaler(copy=True, with_mean=True, with_std=True)),\n",
              "                ('PCA',\n",
              "                 PCA(copy=True, iterated_power='auto', n_components=50,\n",
              "                     random_state=None, svd_solver='auto', tol=0.0,\n",
              "                     whiten=False)),\n",
              "                ('SVM',\n",
              "                 SVC(C=1.0, break_ties=False, cache_size=200, class_weight=None,\n",
              "                     coef0=0.0, decision_function_shape='ovr', degree=3,\n",
              "                     gamma=0.0001, kernel='rbf', max_iter=-1, probability=False,\n",
              "                     random_state=None, shrinking=True, tol=0.001,\n",
              "                     verbose=False))],\n",
              "         verbose=False)"
            ]
          },
          "metadata": {
            "tags": []
          },
          "execution_count": 12
        }
      ]
    },
    {
      "cell_type": "code",
      "metadata": {
        "id": "w-D1XNaDGe0D",
        "colab": {
          "base_uri": "https://localhost:8080/"
        },
        "outputId": "692360fc-da93-4b6b-848b-7a6dd4b5b40e"
      },
      "source": [
        "# Aplicar metrica al modelo\n",
        "print('Train: ', model.score(xtrain, ytrain))\n",
        "print('Test: ', model.score(xtest, ytest))"
      ],
      "execution_count": null,
      "outputs": [
        {
          "output_type": "stream",
          "text": [
            "Train:  0.8942222222222223\n",
            "Test:  0.92\n"
          ],
          "name": "stdout"
        }
      ]
    },
    {
      "cell_type": "code",
      "metadata": {
        "id": "mVRnjOxeGopP"
      },
      "source": [
        "# Hacer predicciones del test\n",
        "ypred = model.predict(xtest)"
      ],
      "execution_count": null,
      "outputs": []
    },
    {
      "cell_type": "code",
      "metadata": {
        "id": "WzcwnQPhGpbU",
        "colab": {
          "base_uri": "https://localhost:8080/"
        },
        "outputId": "d8dd467e-39be-4973-8bda-2bc9eb80d1a0"
      },
      "source": [
        "print('Classification report: \\n', metrics.classification_report(ytest, ypred))"
      ],
      "execution_count": null,
      "outputs": [
        {
          "output_type": "stream",
          "text": [
            "Classification report: \n",
            "               precision    recall  f1-score   support\n",
            "\n",
            "           0       0.98      0.92      0.95        51\n",
            "           1       0.89      0.98      0.93        65\n",
            "           2       0.93      0.83      0.88        47\n",
            "           3       0.92      0.90      0.91        52\n",
            "           4       0.89      0.92      0.91        52\n",
            "           5       0.91      0.94      0.92        32\n",
            "           6       0.95      0.97      0.96        38\n",
            "           7       0.95      0.89      0.92        63\n",
            "           8       0.93      0.91      0.92        43\n",
            "           9       0.88      0.93      0.91        57\n",
            "\n",
            "    accuracy                           0.92       500\n",
            "   macro avg       0.92      0.92      0.92       500\n",
            "weighted avg       0.92      0.92      0.92       500\n",
            "\n"
          ],
          "name": "stdout"
        }
      ]
    },
    {
      "cell_type": "code",
      "metadata": {
        "id": "VN4-alT4GsPF",
        "colab": {
          "base_uri": "https://localhost:8080/",
          "height": 296
        },
        "outputId": "b01282cd-320e-4547-a84e-f3c39de6523a"
      },
      "source": [
        "metrics.plot_confusion_matrix(model, xtest, ytest)"
      ],
      "execution_count": null,
      "outputs": [
        {
          "output_type": "execute_result",
          "data": {
            "text/plain": [
              "<sklearn.metrics._plot.confusion_matrix.ConfusionMatrixDisplay at 0x7f360f9e6f90>"
            ]
          },
          "metadata": {
            "tags": []
          },
          "execution_count": 16
        },
        {
          "output_type": "display_data",
          "data": {
            "image/png": "[encoded data removed]",
            "text/plain": [
              "<Figure size 432x288 with 2 Axes>"
            ]
          },
          "metadata": {
            "tags": [],
            "needs_background": "light"
          }
        }
      ]
    },
    {
      "cell_type": "code",
      "metadata": {
        "id": "R6c9HKciG4wY",
        "colab": {
          "base_uri": "https://localhost:8080/",
          "height": 462
        },
        "outputId": "c63c19b4-7c7b-48e0-c83f-38d33c0db2d1"
      },
      "source": [
        "# Dibujar una predicción aleatoria\n",
        "sample = np.random.randint(xtest.shape[0])\n",
        "plt.imshow(xtest[sample].reshape((28,28)), cmap=plt.cm.gray)\n",
        "plt.title('Prediction: %i' % ypred[sample])\n",
        "plt.show()"
      ],
      "execution_count": null,
      "outputs": [
        {
          "output_type": "error",
          "ename": "IndexError",
          "evalue": "ignored",
          "traceback": [
            "\u001b[0;31m---------------------------------------------------------------------------\u001b[0m",
            "\u001b[0;31mIndexError\u001b[0m                                Traceback (most recent call last)",
            "\u001b[0;32m<ipython-input-23-60c43ed1c938>\u001b[0m in \u001b[0;36m<module>\u001b[0;34m()\u001b[0m\n\u001b[1;32m      2\u001b[0m \u001b[0msample\u001b[0m \u001b[0;34m=\u001b[0m \u001b[0mnp\u001b[0m\u001b[0;34m.\u001b[0m\u001b[0mrandom\u001b[0m\u001b[0;34m.\u001b[0m\u001b[0mrandint\u001b[0m\u001b[0;34m(\u001b[0m\u001b[0mxtest\u001b[0m\u001b[0;34m.\u001b[0m\u001b[0mshape\u001b[0m\u001b[0;34m[\u001b[0m\u001b[0;36m0\u001b[0m\u001b[0;34m]\u001b[0m\u001b[0;34m)\u001b[0m\u001b[0;34m\u001b[0m\u001b[0;34m\u001b[0m\u001b[0m\n\u001b[1;32m      3\u001b[0m \u001b[0mplt\u001b[0m\u001b[0;34m.\u001b[0m\u001b[0mimshow\u001b[0m\u001b[0;34m(\u001b[0m\u001b[0mxtest\u001b[0m\u001b[0;34m[\u001b[0m\u001b[0msample\u001b[0m\u001b[0;34m]\u001b[0m\u001b[0;34m.\u001b[0m\u001b[0mreshape\u001b[0m\u001b[0;34m(\u001b[0m\u001b[0;34m(\u001b[0m\u001b[0;36m28\u001b[0m\u001b[0;34m,\u001b[0m\u001b[0;36m28\u001b[0m\u001b[0;34m)\u001b[0m\u001b[0;34m)\u001b[0m\u001b[0;34m,\u001b[0m \u001b[0mcmap\u001b[0m\u001b[0;34m=\u001b[0m\u001b[0mplt\u001b[0m\u001b[0;34m.\u001b[0m\u001b[0mcm\u001b[0m\u001b[0;34m.\u001b[0m\u001b[0mgray\u001b[0m\u001b[0;34m)\u001b[0m\u001b[0;34m\u001b[0m\u001b[0;34m\u001b[0m\u001b[0m\n\u001b[0;32m----> 4\u001b[0;31m \u001b[0mplt\u001b[0m\u001b[0;34m.\u001b[0m\u001b[0mtitle\u001b[0m\u001b[0;34m(\u001b[0m\u001b[0;34m'Prediction: %i'\u001b[0m \u001b[0;34m%\u001b[0m \u001b[0mypred\u001b[0m\u001b[0;34m[\u001b[0m\u001b[0msample\u001b[0m\u001b[0;34m]\u001b[0m\u001b[0;34m)\u001b[0m\u001b[0;34m\u001b[0m\u001b[0;34m\u001b[0m\u001b[0m\n\u001b[0m\u001b[1;32m      5\u001b[0m \u001b[0mplt\u001b[0m\u001b[0;34m.\u001b[0m\u001b[0mshow\u001b[0m\u001b[0;34m(\u001b[0m\u001b[0;34m)\u001b[0m\u001b[0;34m\u001b[0m\u001b[0;34m\u001b[0m\u001b[0m\n",
            "\u001b[0;31mIndexError\u001b[0m: index 401 is out of bounds for axis 0 with size 1"
          ]
        },
        {
          "output_type": "display_data",
          "data": {
            "image/png": "[encoded data removed]",
            "text/plain": [
              "<Figure size 432x288 with 1 Axes>"
            ]
          },
          "metadata": {
            "tags": [],
            "needs_background": "light"
          }
        }
      ]
    },
    {
      "cell_type": "markdown",
      "metadata": {
        "id": "1mlNjUyNG7eB"
      },
      "source": [
        "## Guardar Modelo"
      ]
    },
    {
      "cell_type": "code",
      "metadata": {
        "id": "zRIlYMKdG9Je",
        "colab": {
          "base_uri": "https://localhost:8080/"
        },
        "outputId": "8fe3be8a-ef6b-46ea-de5e-dea2b4e3fc0c"
      },
      "source": [
        "# Guardar modelo\n",
        "from joblib import dump\n",
        "dump(model, 'mnist_classifier.joblib')"
      ],
      "execution_count": null,
      "outputs": [
        {
          "output_type": "execute_result",
          "data": {
            "text/plain": [
              "['mnist_classifier.joblib']"
            ]
          },
          "metadata": {
            "tags": []
          },
          "execution_count": 18
        }
      ]
    },
    {
      "cell_type": "code",
      "metadata": {
        "id": "cOwZHI4_ReWX"
      },
      "source": [
        "from joblib import load\n",
        "model2 = load('mnist_classifier.joblib')"
      ],
      "execution_count": null,
      "outputs": []
    },
    {
      "cell_type": "code",
      "metadata": {
        "id": "jvLqSY-JR7Iu",
        "colab": {
          "base_uri": "https://localhost:8080/",
          "height": 281
        },
        "outputId": "5839c0ee-8e9f-4de7-9d6d-99da2a3e725f"
      },
      "source": [
        "# Dibujar una predicción aleatoria\n",
        "sample = np.random.randint(xtest.shape[0])\n",
        "plt.imshow(xtest[sample].reshape((28,28)), cmap=plt.cm.gray)\n",
        "ypred = model2.predict(xtest[sample].reshape(1,-1))\n",
        "plt.title('Prediction: %i' % ypred)\n",
        "plt.show()"
      ],
      "execution_count": null,
      "outputs": [
        {
          "output_type": "display_data",
          "data": {
            "image/png": "[encoded data removed]",
            "text/plain": [
              "<Figure size 432x288 with 1 Axes>"
            ]
          },
          "metadata": {
            "tags": [],
            "needs_background": "light"
          }
        }
      ]
    }
  ]
}